{
  "cells": [
    {
      "cell_type": "markdown",
      "id": "a15af713-7836-4076-9111-fa9e59ff2620",
      "metadata": {},
      "source": [
        "# Memoire Python tutorial\n",
        "\n",
        "This tutorial will teach you the basics of Memoire for your RAG or document retrieval/search pipeline.\n",
        "\n",
        "Before going ahead, ensure that the Memoire docker container is running smoothly ([you can find how to on the readme of our GitHub here](https://github.com/A-star-logic/memoire))."
      ]
    },
    {
      "cell_type": "markdown",
      "id": "e4b28c46-9b3e-4d72-8ade-24a50e0efaab",
      "metadata": {
        "jp-MarkdownHeadingCollapsed": true
      },
      "source": [
        "## **1. Import required libraries**\n",
        "First, we'll set the app url and the API key in memory, and import an HTTP request library."
      ]
    },
    {
      "cell_type": "code",
      "execution_count": 1,
      "id": "1520c648-c400-4010-80ce-3cefcbb43a90",
      "metadata": {},
      "outputs": [],
      "source": [
        "import requests\n",
        "import json\n",
        "\n",
        "API_KEY = \"abc123\" # secure me\n",
        "MEMOIRE_URL = 'http://localhost:3003'"
      ]
    },
    {
      "cell_type": "markdown",
      "id": "ae7bda54-e5cf-4b39-b169-2c837e3e6899",
      "metadata": {
        "jp-MarkdownHeadingCollapsed": true
      },
      "source": [
        "## **2. Define helper functions**\n",
        "Next, we define some helper functions for convenience"
      ]
    },
    {
      "cell_type": "code",
      "execution_count": null,
      "id": "9f3aba4e-780d-44bc-b0e4-33a05c32766e",
      "metadata": {},
      "outputs": [],
      "source": [
        "def index_documents(documents):\n",
        "    return requests.post(\n",
        "        MEMOIRE_URL + \"/memoire/ingest/urls\",\n",
        "        headers = {\"Authorization\": f\"Bearer {API_KEY}\"},\n",
        "        json = {\n",
        "            \"documents\": documents\n",
        "        }\n",
        "    )\n",
        "\n",
        "def search(query):\n",
        "    return requests.post(\n",
        "        MEMOIRE_URL + \"/memoire/search\",\n",
        "        headers = {\"Authorization\": f\"Bearer {API_KEY}\"},\n",
        "        json = {\n",
        "            \"operationMode\": 'speed',\n",
        "            \"maxResults\": 3,\n",
        "            \"query\": query\n",
        "        }\n",
        "    )"
      ]
    },
    {
      "cell_type": "markdown",
      "id": "502404f0-2e39-4c43-9f95-3ceaef27e301",
      "metadata": {},
      "source": [
        "## **3. Ingest Documents**\n",
        "Now this is time to ingest some documents.\n",
        "\n",
        "In this example, we index cooking recipes from a few websites and MS Word documents."
      ]
    },
    {
      "cell_type": "code",
      "execution_count": 3,
      "id": "2a9604fa-69b8-433b-af71-5de04b79e0fe",
      "metadata": {},
      "outputs": [
        {
          "data": {
            "text/plain": [
              "{'message': 'ok'}"
            ]
          },
          "execution_count": 3,
          "metadata": {},
          "output_type": "execute_result"
        }
      ],
      "source": [
        "documents = [\n",
        "    {\n",
        "        \"documentID\": \"document1\",\n",
        "        \"url\": \"https://raw.githubusercontent.com/A-star-logic/memoire/refs/heads/main/src/parser/tests/sampleFiles/test.txt\"\n",
        "    },\n",
        "    {\n",
        "        \"documentID\": \"def-456\",\n",
        "        \"url\": \"https://github.com/A-star-logic/memoire/raw/refs/heads/main/src/parser/tests/sampleFiles/test.docx\"\n",
        "    },\n",
        "    {\n",
        "        \"documentID\": \"def-789\",\n",
        "        \"url\": \"https://github.com/A-star-logic/memoire/raw/refs/heads/main/src/parser/tests/sampleFiles/test.csv\"\n",
        "    }\n",
        "]\n",
        "\n",
        "\n",
        "response = index_documents(documents)\n",
        "response.json()"
      ]
    },
    {
      "cell_type": "markdown",
      "id": "694fd904-a60e-4859-85fd-29bc29dec478",
      "metadata": {},
      "source": [
        "## **4. Search retrieval**\n",
        "Finally, we can do our retrieval."
      ]
    },
    {
      "cell_type": "code",
      "execution_count": null,
      "id": "3d663a20-e6e7-40c9-b6c5-adab5ec48894",
      "metadata": {},
      "outputs": [
        {
          "name": "stdout",
          "output_type": "stream",
          "text": [
            "{\n",
            "  \"results\": [\n",
            "    {\n",
            "      \"content\": \"text for tests\\nand another line \",\n",
            "      \"documentID\": \"document1\",\n",
            "      \"score\": 0.016393442622950817,\n",
            "      \"highlights\": \"text for tests\\nand another line \",\n",
            "      \"metadata\": {}\n",
            "    },\n",
            "    {\n",
            "      \"content\": \"text,list,region\\r\\n\\\"gravida. Aliquam tincidunt, nunc ac mattis ornare, lectus ante dictum mi, ac mattis velit justo nec ante. Maecenas mi felis, adipiscing fringilla, porttitor vulputate, posuere vulputate, lacus. Cras interdum. Nunc sollicitudin commodo ipsum. Suspendisse non leo. Vivamus nibh dolor, nonummy ac, feugiat non, lobortis quis, pede. Suspendisse dui. Fusce diam nunc, ullamcorper eu, euismod ac, fermentum vel, mauris. Integer sem elit, pharetra ut, pharetra sed, hendrerit a, arcu. Sed et libero. Proin mi. Aliquam gravida mauris ut mi. Duis risus odio, auctor vitae, aliquet nec, imperdiet nec, leo. Morbi neque tellus, imperdiet non, vestibulum nec, euismod in, dolor. Fusce feugiat.\\\",7,Emilia-Romagna\\r\\n\\\"vestibulum, neque sed dictum eleifend, nunc risus varius orci, in consequat enim diam vel arcu. Curabitur ut odio vel est tempor bibendum. Donec felis orci, adipiscing non, luctus sit amet, faucibus ut, nulla. Cras eu tellus eu augue porttitor interdum. Sed auctor odio a purus. Duis elementum, dui quis accumsan convallis, ante lectus convallis est, vitae sodales nisi magna sed dui. Fusce aliquam, enim nec tempus scelerisque, lorem ipsum sodales purus, in molestie tortor nibh sit amet orci. Ut sagittis lobortis mauris. Suspendisse aliquet molestie tellus. Aenean egestas hendrerit neque. In ornare sagittis felis. Donec tempor, est ac mattis semper,\\\",13,Quind\\u00edo\\r\\n\\\"sed pede. Cum sociis natoque penatibus et magnis dis parturient montes, nascetur ridiculus mus. Proin vel arcu eu odio tristique pharetra. Quisque ac libero nec ligula consectetuer rhoncus. Nullam velit dui, semper et, lacinia  vitae, sodales at, velit. Pellentesque ultricies dignissim lacus. Aliquam rutrum lorem ac risus. Morbi metus. Vivamus euismod urna. Nullam lobortis quam a felis ullamcorper viverra. Maecenas iaculis aliquet diam. Sed diam lorem, auctor quis, tristique ac, eleifend vitae, erat. Vivamus nisi. Mauris nulla. Integer urna. Vivamus molestie dapibus ligula. Aliquam erat volutpat. Nulla dignissim. Maecenas ornare egestas ligula. Nullam feugiat placerat velit. Quisque varius. Nam porttitor\\\",1,Maranh\\u00e3o\\r\\n\\\"risus. Donec egestas. Aliquam nec enim. Nunc ut erat. Sed nunc est, mollis non, cursus non, egestas a, dui. Cras pellentesque. Sed dictum. Proin eget odio. Aliquam vulputate ullamcorper magna. Sed eu eros. Nam consequat dolor vitae dolor. Donec fringilla. Donec feugiat metus sit amet ante. Vivamus non lorem vitae odio sagittis semper. Nam tempor diam dictum sapien. Aenean massa. Integer vitae nibh. Donec est mauris, rhoncus id, mollis nec, cursus a, enim. Suspendisse aliquet, sem ut cursus luctus, ipsum leo elementum sem, vitae aliquam eros turpis non enim. Mauris quis turpis vitae purus gravida sagittis. Duis gravida. Praesent eu\\\",1,\\u00cele-de-France\\r\\n\\\"vitae, sodales at, velit. Pellentesque ultricies dignissim lacus. Aliquam rutrum lorem ac risus. Morbi metus. Vivamus euismod urna. Nullam lobortis quam a felis ullamcorper viverra. Maecenas iaculis aliquet diam. Sed diam lorem, auctor quis, tristique ac, eleifend vitae, erat. Vivamus nisi. Mauris nulla. Integer urna. Vivamus molestie dapibus ligula. Aliquam erat volutpat. Nulla dignissim. Maecenas ornare egestas ligula. Nullam feugiat placerat velit. Quisque varius.  Nam porttitor scelerisque neque. Nullam nisl. Maecenas malesuada fringilla est. Mauris eu turpis. Nulla aliquet. Proin velit. Sed malesuada augue ut lacus. Nulla tincidunt, neque vitae semper egestas, urna justo faucibus lectus, a sollicitudin orci sem\\\",1,Wiltshire\\r\\n \",\n",
            "      \"documentID\": \"def-789\",\n",
            "      \"score\": 0.016129032258064516,\n",
            "      \"highlights\": \"text,list,region\\r\\n\\\"gravida. Aliquam tincidunt, nunc ac mattis ornare, lectus ante dictum mi, ac mattis velit justo nec ante. Maecenas mi felis, adipiscing fringilla, porttitor vulputate, posuere vulputate, lacus. Cras interdum. Nunc sollicitudin commodo ipsum. Suspendisse non leo. Vivamus nibh dolor, nonummy ac, feugiat non, lobortis quis, pede. Suspendisse dui. Fusce diam nunc, ullamcorper eu, euismod ac, fermentum vel, mauris. Integer sem elit, pharetra ut, pharetra sed, hendrerit a, arcu. Sed et libero. Proin mi. Aliquam gravida mauris ut mi. Duis risus odio, auctor vitae, aliquet nec, imperdiet nec, leo. Morbi neque tellus, imperdiet non, vestibulum nec, euismod in, dolor. Fusce feugiat.\\\",7,Emilia-Romagna\\r\\n\\\"vestibulum, neque sed dictum eleifend, nunc risus varius orci, in consequat enim diam vel arcu. Curabitur ut odio vel est tempor bibendum. Donec felis orci, adipiscing non, luctus sit amet, faucibus ut, nulla. Cras eu tellus eu augue porttitor interdum. Sed auctor odio a purus. Duis elementum, dui quis accumsan convallis, ante lectus convallis est, vitae sodales nisi magna sed dui. Fusce aliquam, enim nec tempus scelerisque, lorem ipsum sodales purus, in molestie tortor nibh sit amet orci. Ut sagittis lobortis mauris. Suspendisse aliquet molestie tellus. Aenean egestas hendrerit neque. In ornare sagittis felis. Donec tempor, est ac mattis semper,\\\",13,Quind\\u00edo\\r\\n\\\"sed pede. Cum sociis natoque penatibus et magnis dis parturient montes, nascetur ridiculus mus. Proin vel arcu eu odio tristique pharetra. Quisque ac libero nec ligula consectetuer rhoncus. Nullam velit dui, semper et, lacinia \",\n",
            "      \"metadata\": {}\n",
            "    },\n",
            "    {\n",
            "      \"content\": \"text,list,region\\r\\n\\\"gravida. Aliquam tincidunt, nunc ac mattis ornare, lectus ante dictum mi, ac mattis velit justo nec ante. Maecenas mi felis, adipiscing fringilla, porttitor vulputate, posuere vulputate, lacus. Cras interdum. Nunc sollicitudin commodo ipsum. Suspendisse non leo. Vivamus nibh dolor, nonummy ac, feugiat non, lobortis quis, pede. Suspendisse dui. Fusce diam nunc, ullamcorper eu, euismod ac, fermentum vel, mauris. Integer sem elit, pharetra ut, pharetra sed, hendrerit a, arcu. Sed et libero. Proin mi. Aliquam gravida mauris ut mi. Duis risus odio, auctor vitae, aliquet nec, imperdiet nec, leo. Morbi neque tellus, imperdiet non, vestibulum nec, euismod in, dolor. Fusce feugiat.\\\",7,Emilia-Romagna\\r\\n\\\"vestibulum, neque sed dictum eleifend, nunc risus varius orci, in consequat enim diam vel arcu. Curabitur ut odio vel est tempor bibendum. Donec felis orci, adipiscing non, luctus sit amet, faucibus ut, nulla. Cras eu tellus eu augue porttitor interdum. Sed auctor odio a purus. Duis elementum, dui quis accumsan convallis, ante lectus convallis est, vitae sodales nisi magna sed dui. Fusce aliquam, enim nec tempus scelerisque, lorem ipsum sodales purus, in molestie tortor nibh sit amet orci. Ut sagittis lobortis mauris. Suspendisse aliquet molestie tellus. Aenean egestas hendrerit neque. In ornare sagittis felis. Donec tempor, est ac mattis semper,\\\",13,Quind\\u00edo\\r\\n\\\"sed pede. Cum sociis natoque penatibus et magnis dis parturient montes, nascetur ridiculus mus. Proin vel arcu eu odio tristique pharetra. Quisque ac libero nec ligula consectetuer rhoncus. Nullam velit dui, semper et, lacinia  vitae, sodales at, velit. Pellentesque ultricies dignissim lacus. Aliquam rutrum lorem ac risus. Morbi metus. Vivamus euismod urna. Nullam lobortis quam a felis ullamcorper viverra. Maecenas iaculis aliquet diam. Sed diam lorem, auctor quis, tristique ac, eleifend vitae, erat. Vivamus nisi. Mauris nulla. Integer urna. Vivamus molestie dapibus ligula. Aliquam erat volutpat. Nulla dignissim. Maecenas ornare egestas ligula. Nullam feugiat placerat velit. Quisque varius. Nam porttitor\\\",1,Maranh\\u00e3o\\r\\n\\\"risus. Donec egestas. Aliquam nec enim. Nunc ut erat. Sed nunc est, mollis non, cursus non, egestas a, dui. Cras pellentesque. Sed dictum. Proin eget odio. Aliquam vulputate ullamcorper magna. Sed eu eros. Nam consequat dolor vitae dolor. Donec fringilla. Donec feugiat metus sit amet ante. Vivamus non lorem vitae odio sagittis semper. Nam tempor diam dictum sapien. Aenean massa. Integer vitae nibh. Donec est mauris, rhoncus id, mollis nec, cursus a, enim. Suspendisse aliquet, sem ut cursus luctus, ipsum leo elementum sem, vitae aliquam eros turpis non enim. Mauris quis turpis vitae purus gravida sagittis. Duis gravida. Praesent eu\\\",1,\\u00cele-de-France\\r\\n\\\"vitae, sodales at, velit. Pellentesque ultricies dignissim lacus. Aliquam rutrum lorem ac risus. Morbi metus. Vivamus euismod urna. Nullam lobortis quam a felis ullamcorper viverra. Maecenas iaculis aliquet diam. Sed diam lorem, auctor quis, tristique ac, eleifend vitae, erat. Vivamus nisi. Mauris nulla. Integer urna. Vivamus molestie dapibus ligula. Aliquam erat volutpat. Nulla dignissim. Maecenas ornare egestas ligula. Nullam feugiat placerat velit. Quisque varius.  Nam porttitor scelerisque neque. Nullam nisl. Maecenas malesuada fringilla est. Mauris eu turpis. Nulla aliquet. Proin velit. Sed malesuada augue ut lacus. Nulla tincidunt, neque vitae semper egestas, urna justo faucibus lectus, a sollicitudin orci sem\\\",1,Wiltshire\\r\\n \",\n",
            "      \"documentID\": \"def-789\",\n",
            "      \"score\": 0.01597542242703533,\n",
            "      \"highlights\": \"vitae, sodales at, velit. Pellentesque ultricies dignissim lacus. Aliquam rutrum lorem ac risus. Morbi metus. Vivamus euismod urna. Nullam lobortis quam a felis ullamcorper viverra. Maecenas iaculis aliquet diam. Sed diam lorem, auctor quis, tristique ac, eleifend vitae, erat. Vivamus nisi. Mauris nulla. Integer urna. Vivamus molestie dapibus ligula. Aliquam erat volutpat. Nulla dignissim. Maecenas ornare egestas ligula. Nullam feugiat placerat velit. Quisque varius. Nam porttitor\\\",1,Maranh\\u00e3o\\r\\n\\\"risus. Donec egestas. Aliquam nec enim. Nunc ut erat. Sed nunc est, mollis non, cursus non, egestas a, dui. Cras pellentesque. Sed dictum. Proin eget odio. Aliquam vulputate ullamcorper magna. Sed eu eros. Nam consequat dolor vitae dolor. Donec fringilla. Donec feugiat metus sit amet ante. Vivamus non lorem vitae odio sagittis semper. Nam tempor diam dictum sapien. Aenean massa. Integer vitae nibh. Donec est mauris, rhoncus id, mollis nec, cursus a, enim. Suspendisse aliquet, sem ut cursus luctus, ipsum leo elementum sem, vitae aliquam eros turpis non enim. Mauris quis turpis vitae purus gravida sagittis. Duis gravida. Praesent eu\\\",1,\\u00cele-de-France\\r\\n\\\"vitae, sodales at, velit. Pellentesque ultricies dignissim lacus. Aliquam rutrum lorem ac risus. Morbi metus. Vivamus euismod urna. Nullam lobortis quam a felis ullamcorper viverra. Maecenas iaculis aliquet diam. Sed diam lorem, auctor quis, tristique ac, eleifend vitae, erat. Vivamus nisi. Mauris nulla. Integer urna. Vivamus molestie dapibus ligula. Aliquam erat volutpat. Nulla dignissim. Maecenas ornare egestas ligula. Nullam feugiat placerat velit. Quisque varius. \",\n",
            "      \"metadata\": {}\n",
            "    }\n",
            "  ]\n",
            "}\n"
          ]
        }
      ],
      "source": [
        "search_response = search(\"text\")\n",
        "\n",
        "print(json.dumps(search_response.json(), indent=2))"
      ]
    },
    {
      "cell_type": "markdown",
      "id": "edbf4cb9-dd3e-42a7-9d7e-62cb599e897c",
      "metadata": {},
      "source": [
        "## Interpreting the results & use them correctly\n",
        "\n",
        "Great, you've got the results, you can now pipe the output to an LLM, or directly to your user.\n",
        "\n",
        "Due to hybrid search, we have to present our results in a \"quirky\" way, especially when you are used to traditional search.\n",
        "\n",
        "- The `content` is for the original document. This field will always be present since we save the original documents. However, it may be too big for an LLM (imagine a 30-page long Word document).\n",
        "- The `highlights` is for the current chunk of the document. This field will have the most contextual relevance to your query. However, in very rare cases, it could be empty.\n",
        "- Some documents may appear multiple times (and that's a good sign), but with different highlights.\n",
        "\n",
        "How does it translate to your application? You need to use the highlight of the top documents, and fallback on the content only if the highlight is not available."
      ]
    }
  ],
  "metadata": {
    "kernelspec": {
      "display_name": "Python 3",
      "language": "python",
      "name": "python3"
    },
    "language_info": {
      "codemirror_mode": {
        "name": "ipython",
        "version": 3
      },
      "file_extension": ".py",
      "mimetype": "text/x-python",
      "name": "python",
      "nbconvert_exporter": "python",
      "pygments_lexer": "ipython3",
      "version": "3.12.3"
    }
  },
  "nbformat": 4,
  "nbformat_minor": 5
}
